{
 "cells": [
  {
   "cell_type": "code",
   "execution_count": 1,
   "id": "377ecafb-d607-4e0a-8544-411640a920da",
   "metadata": {},
   "outputs": [],
   "source": [
    "#Q1. Explain the concept of precision and recall in the context of classification models."
   ]
  },
  {
   "cell_type": "code",
   "execution_count": 2,
   "id": "ed491b5a-877b-4eab-a7d6-e050e0b292b8",
   "metadata": {},
   "outputs": [],
   "source": [
    "#Recall: The ability of a model to find all the relevant cases within a data set. Mathematically, we define \n",
    "#recall as the number of true positives divided by the number of true positives plus the number of false\n",
    "#negatives. Precision: The ability of a classification model to identify only the relevant data points."
   ]
  },
  {
   "cell_type": "code",
   "execution_count": 3,
   "id": "f0fb3990-888d-4d3f-be50-2d7403fbfea2",
   "metadata": {},
   "outputs": [],
   "source": [
    "#Q2. What is the F1 score and how is it calculated? How is it different from precision and recall?"
   ]
  },
  {
   "cell_type": "code",
   "execution_count": 4,
   "id": "6781f7ac-1f1a-4a97-8ee7-2a71eb3b339b",
   "metadata": {},
   "outputs": [],
   "source": [
    "#F1 score is a weighted average of precision and recall. As we know in precision and in recall there is false \n",
    "#positive and false negative so it also consider both of them. F1 score is usually more useful than accuracy,\n",
    "#especially if you have an uneven class distribution.\n",
    "#An F-score is the harmonic mean of a system's precision and recall values. It can be calculated by the following\n",
    "#formula: 2 x [(Precision x Recall) / (Precision + Recall)]."
   ]
  },
  {
   "cell_type": "code",
   "execution_count": 5,
   "id": "c469a2eb-06c9-411d-988b-485dc420c58c",
   "metadata": {},
   "outputs": [],
   "source": [
    "#Q3. What is ROC and AUC, and how are they used to evaluate the performance of classification models?"
   ]
  },
  {
   "cell_type": "code",
   "execution_count": 6,
   "id": "68e6f6f3-98e4-48e5-a7d4-7e5640eef58f",
   "metadata": {},
   "outputs": [],
   "source": [
    "#A. AUC ROC stands for “Area Under the Curve” of the “Receiver Operating Characteristic” curve.\n",
    "#The AUC ROC curve is basically a way of measuring the performance of an ML model. AUC measures the ability of \n",
    "#a binary classifier to distinguish between classes and is used as a summary of the ROC curve."
   ]
  },
  {
   "cell_type": "code",
   "execution_count": 7,
   "id": "9f448137-85f1-4ff6-9e4d-77f39b2bd165",
   "metadata": {},
   "outputs": [],
   "source": [
    "#Q4. How do you choose the best metric to evaluate the performance of a classification model?\n",
    "#What is multiclass classification and how is it different from binary classification?"
   ]
  },
  {
   "cell_type": "code",
   "execution_count": 9,
   "id": "ee6d0064-7c7b-487b-9444-47f0dedd7b39",
   "metadata": {},
   "outputs": [],
   "source": [
    "#Metrics like accuracy, precision, recall are good ways to evaluate classification models for balanced datasets,\n",
    "#but if the data is imbalanced then other methods like ROC/AUC perform better in evaluating the model performance.\n",
    "#Binary classification are those tasks where examples are assigned exactly one of two classes. Multi-class \n",
    "#classification is those tasks where examples are assigned exactly one of more than two classes."
   ]
  },
  {
   "cell_type": "code",
   "execution_count": 10,
   "id": "5b8c512e-098a-4629-b724-e5e394b369f4",
   "metadata": {},
   "outputs": [],
   "source": [
    "#Q5. Explain how logistic regression can be used for multiclass classification."
   ]
  },
  {
   "cell_type": "code",
   "execution_count": 11,
   "id": "90c024f7-e082-43be-b773-2add24acfde3",
   "metadata": {},
   "outputs": [],
   "source": [
    "#Logistic regression, by default, is limited to two-class classification problems. Some extensions like \n",
    "#one-vs-rest can allow logistic regression to be used for multi-class classification problems, although they \n",
    "#require that the classification problem first be transformed into multiple binary classification problems."
   ]
  },
  {
   "cell_type": "code",
   "execution_count": 12,
   "id": "788d860c-3283-41ca-81b2-5713061073c8",
   "metadata": {},
   "outputs": [],
   "source": [
    "#Q6. Describe the steps involved in an end-to-end project for multiclass classification."
   ]
  },
  {
   "cell_type": "code",
   "execution_count": 13,
   "id": "74b3b612-8c04-4dd3-85db-65b1cef01eaa",
   "metadata": {},
   "outputs": [],
   "source": [
    "#t comprises three basic steps: feature selection, classification model building and validation of the constructed\n",
    "#model. In the feature selection step, it is necessary to create an optimal data subset which reduces noise and \n",
    "#bias, thereby enhancing the accuracy of classification process."
   ]
  },
  {
   "cell_type": "code",
   "execution_count": 14,
   "id": "3af11898-0368-4fc6-9915-4c85ecacf57e",
   "metadata": {},
   "outputs": [],
   "source": [
    "#Q7. What is model deployment and why is it important?"
   ]
  },
  {
   "cell_type": "code",
   "execution_count": 16,
   "id": "3aa70dc4-92fd-4423-8e55-d55b98e326e2",
   "metadata": {},
   "outputs": [],
   "source": [
    "#Model deployment is the process of putting machine learning models into production. This makes the model's \n",
    "#predictions available to users, developers or systems, so they can make business decisions based on data, \n",
    "#interact with their application (like recognize a face in an image) and so on.\n",
    "#In order to start using a model for practical decision-making, it needs to be effectively deployed into\n",
    "#production. If you cannot reliably get practical insights from your model, then the impact of the model is \n",
    "#severely limited."
   ]
  },
  {
   "cell_type": "code",
   "execution_count": 17,
   "id": "8a74ff04-5b47-42a0-8db0-235d64fd9eff",
   "metadata": {},
   "outputs": [],
   "source": [
    "#Q8. Explain how multi-cloud platforms are used for model deployment."
   ]
  },
  {
   "cell_type": "code",
   "execution_count": 18,
   "id": "536d9f99-28d7-41b8-b877-d01150f928a0",
   "metadata": {},
   "outputs": [],
   "source": [
    "#the distributed, heterogeneous world of applications and users across public clouds, data centers and edge.\n",
    "#In this model, organizations utilize a combination of on-premises, private cloud, public cloud, and edge to\n",
    "#build, operate, access, and secure their applications consistently across clouds."
   ]
  },
  {
   "cell_type": "code",
   "execution_count": 19,
   "id": "d0014100-2d24-4ffc-a2ba-c12e314a2ad7",
   "metadata": {},
   "outputs": [],
   "source": [
    "#Q9. Discuss the benefits and challenges of deploying machine learning models in a multi-cloud\n",
    "#environment."
   ]
  },
  {
   "cell_type": "code",
   "execution_count": null,
   "id": "f9f38b96-3c97-44ee-98a9-3a99a670a269",
   "metadata": {},
   "outputs": [],
   "source": []
  }
 ],
 "metadata": {
  "kernelspec": {
   "display_name": "Python 3 (ipykernel)",
   "language": "python",
   "name": "python3"
  },
  "language_info": {
   "codemirror_mode": {
    "name": "ipython",
    "version": 3
   },
   "file_extension": ".py",
   "mimetype": "text/x-python",
   "name": "python",
   "nbconvert_exporter": "python",
   "pygments_lexer": "ipython3",
   "version": "3.10.8"
  }
 },
 "nbformat": 4,
 "nbformat_minor": 5
}
